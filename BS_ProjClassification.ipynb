{
  "nbformat": 4,
  "nbformat_minor": 0,
  "metadata": {
    "colab": {
      "name": "BS_ProjClassification.ipynb",
      "provenance": [],
      "authorship_tag": "ABX9TyOckEG9nTbkVdKvgp/sSWPV",
      "include_colab_link": true
    },
    "kernelspec": {
      "name": "python3",
      "display_name": "Python 3"
    }
  },
  "cells": [
    {
      "cell_type": "markdown",
      "metadata": {
        "id": "view-in-github",
        "colab_type": "text"
      },
      "source": [
        "<a href=\"https://colab.research.google.com/github/bipulsin/ML-Projects/blob/main/BS_ProjClassification.ipynb\" target=\"_parent\"><img src=\"https://colab.research.google.com/assets/colab-badge.svg\" alt=\"Open In Colab\"/></a>"
      ]
    },
    {
      "cell_type": "code",
      "metadata": {
        "id": "M7QAMp8SQyim"
      },
      "source": [
        "%tensorflow_version 2.x"
      ],
      "execution_count": null,
      "outputs": []
    },
    {
      "cell_type": "code",
      "metadata": {
        "id": "gECUP8zOhoFg"
      },
      "source": [
        "from __future__ import absolute_import, division, print_function, unicode_literals\n",
        "\n",
        "import tensorflow as tf\n",
        "import pandas as pd\n"
      ],
      "execution_count": null,
      "outputs": []
    },
    {
      "cell_type": "markdown",
      "metadata": {
        "id": "hVaKwAsciZoH"
      },
      "source": [
        "**Dataset**\n",
        "\n",
        "This specific dataset seperates flowers into 3 different classes of species.\n",
        "Setosa\n",
        "\n",
        "*   Setosa\n",
        "*   Versicolor\n",
        "* Virginica\n",
        "\n",
        "The information about each flower is the following.\n",
        "* sepal length\n",
        "* sepal width\n",
        "* petal length\n",
        "* petal width"
      ]
    },
    {
      "cell_type": "code",
      "metadata": {
        "id": "BsBYr3ikicuy"
      },
      "source": [
        "CSV_COLUMN_NAMES = ['SepalLength', 'SepalWidth', 'PetalLength', 'PetalWidth', 'Species']\n",
        "SPECIES = ['Setosa', 'Versicolor', 'Virginica']"
      ],
      "execution_count": null,
      "outputs": []
    },
    {
      "cell_type": "markdown",
      "metadata": {
        "id": "ZrfUxgpxjrAE"
      },
      "source": [
        "Here we use keras (a module inside of TensorFlow) to grab our datasets and read them into a pandas dataframe"
      ]
    },
    {
      "cell_type": "code",
      "metadata": {
        "colab": {
          "base_uri": "https://localhost:8080/"
        },
        "id": "XgeQsqjUjjUW",
        "outputId": "d3d8b89d-db11-4d78-94f7-5b5f6b1a1df4"
      },
      "source": [
        "train_path = tf.keras.utils.get_file('iris_training.csv',\"https://storage.googleapis.com/download.tensorflow.org/data/iris_training.csv\")\n",
        "test_path = tf.keras.utils.get_file('iris_test.csv',\"https://storage.googleapis.com/download.tensorflow.org/data/iris_test.csv\")\n",
        "\n",
        "train = pd.read_csv(train_path, names=CSV_COLUMN_NAMES,header=0)\n",
        "test = pd.read_csv(test_path, names=CSV_COLUMN_NAMES, header=0)"
      ],
      "execution_count": null,
      "outputs": [
        {
          "output_type": "stream",
          "text": [
            "Downloading data from https://storage.googleapis.com/download.tensorflow.org/data/iris_training.csv\n",
            "8192/2194 [================================================================================================================] - 0s 0us/step\n",
            "Downloading data from https://storage.googleapis.com/download.tensorflow.org/data/iris_test.csv\n",
            "8192/573 [============================================================================================================================================================================================================================================================================================================================================================================================================================================] - 0s 0us/step\n"
          ],
          "name": "stdout"
        }
      ]
    },
    {
      "cell_type": "code",
      "metadata": {
        "id": "uot2r4famO0Z"
      },
      "source": [
        "train_y = train.pop('Species')\n",
        "test_y = test.pop('Species')\n"
      ],
      "execution_count": null,
      "outputs": []
    },
    {
      "cell_type": "code",
      "metadata": {
        "colab": {
          "base_uri": "https://localhost:8080/"
        },
        "id": "i7MLdc8YmdFU",
        "outputId": "e00c7c59-d707-43bd-8244-ed71ef6a1101"
      },
      "source": [
        "train.shape"
      ],
      "execution_count": null,
      "outputs": [
        {
          "output_type": "execute_result",
          "data": {
            "text/plain": [
              "(120, 4)"
            ]
          },
          "metadata": {
            "tags": []
          },
          "execution_count": 15
        }
      ]
    },
    {
      "cell_type": "markdown",
      "metadata": {
        "id": "vn_HAW1Gm1Zy"
      },
      "source": [
        "**INPUT Function**"
      ]
    },
    {
      "cell_type": "code",
      "metadata": {
        "id": "nbvo9VU2nDwa"
      },
      "source": [
        "def input_fn(features, labels, training=True, batch_size=256):\n",
        "  dataset = tf.data.Dataset.from_tensor_slices((dict(features),labels))\n",
        "\n",
        "  if training:\n",
        "    dataset = dataset.shuffle(1000).repeat()\n",
        "  return dataset.batch(batch_size)"
      ],
      "execution_count": null,
      "outputs": []
    },
    {
      "cell_type": "markdown",
      "metadata": {
        "id": "IopdPMXoodIQ"
      },
      "source": [
        "**FEATURE Column**\n",
        "They describe how to use the input"
      ]
    },
    {
      "cell_type": "code",
      "metadata": {
        "colab": {
          "base_uri": "https://localhost:8080/"
        },
        "id": "13DQSVxxog0s",
        "outputId": "8f0ecd66-9368-442b-fb43-c870552e11c1"
      },
      "source": [
        "my_feature_columns = []\n",
        "for key in train.keys():\n",
        "  my_feature_columns.append(tf.feature_column.numeric_column(key=key))\n",
        "print(my_feature_columns)"
      ],
      "execution_count": null,
      "outputs": [
        {
          "output_type": "stream",
          "text": [
            "[NumericColumn(key='SepalLength', shape=(1,), default_value=None, dtype=tf.float32, normalizer_fn=None), NumericColumn(key='SepalWidth', shape=(1,), default_value=None, dtype=tf.float32, normalizer_fn=None), NumericColumn(key='PetalLength', shape=(1,), default_value=None, dtype=tf.float32, normalizer_fn=None), NumericColumn(key='PetalWidth', shape=(1,), default_value=None, dtype=tf.float32, normalizer_fn=None)]\n"
          ],
          "name": "stdout"
        }
      ]
    },
    {
      "cell_type": "markdown",
      "metadata": {
        "id": "-he8ZKuuqRVp"
      },
      "source": [
        "**Building the MODEL**\n",
        "\n",
        "There are many options but we will select DNNClassifier (Deep Neural Network) over The LinearClassifier.\n",
        "\n",
        "Will build DNN with 2 hidden layers having 30 & 10 hidden nodes each"
      ]
    },
    {
      "cell_type": "code",
      "metadata": {
        "colab": {
          "base_uri": "https://localhost:8080/"
        },
        "id": "WHtoAY7hq_dv",
        "outputId": "2c05b0a2-7c52-4296-efbc-dbc45d25057e"
      },
      "source": [
        "classifier = tf.estimator.DNNClassifier(\n",
        "    feature_columns = my_feature_columns,\n",
        "    hidden_units = [30,10],\n",
        "    n_classes = 3\n",
        ")\n"
      ],
      "execution_count": null,
      "outputs": [
        {
          "output_type": "stream",
          "text": [
            "INFO:tensorflow:Using default config.\n",
            "WARNING:tensorflow:Using temporary folder as model directory: /tmp/tmpnwnh67m1\n",
            "INFO:tensorflow:Using config: {'_model_dir': '/tmp/tmpnwnh67m1', '_tf_random_seed': None, '_save_summary_steps': 100, '_save_checkpoints_steps': None, '_save_checkpoints_secs': 600, '_session_config': allow_soft_placement: true\n",
            "graph_options {\n",
            "  rewrite_options {\n",
            "    meta_optimizer_iterations: ONE\n",
            "  }\n",
            "}\n",
            ", '_keep_checkpoint_max': 5, '_keep_checkpoint_every_n_hours': 10000, '_log_step_count_steps': 100, '_train_distribute': None, '_device_fn': None, '_protocol': None, '_eval_distribute': None, '_experimental_distribute': None, '_experimental_max_worker_delay_secs': None, '_session_creation_timeout_secs': 7200, '_checkpoint_save_graph_def': True, '_service': None, '_cluster_spec': ClusterSpec({}), '_task_type': 'worker', '_task_id': 0, '_global_id_in_cluster': 0, '_master': '', '_evaluation_master': '', '_is_chief': True, '_num_ps_replicas': 0, '_num_worker_replicas': 1}\n"
          ],
          "name": "stdout"
        }
      ]
    },
    {
      "cell_type": "markdown",
      "metadata": {
        "id": "Z8UeBV9ntTQA"
      },
      "source": [
        "**Train the Model**\n",
        "\n",
        "Now it's time to train the model!\n",
        "\n",
        "We include a lambda to avoid creating an inner function previously"
      ]
    },
    {
      "cell_type": "code",
      "metadata": {
        "colab": {
          "base_uri": "https://localhost:8080/"
        },
        "id": "VuJtOsastt1G",
        "outputId": "30489e2b-368a-4780-9620-ea1a5f7bb726"
      },
      "source": [
        "classifier.train(input_fn=lambda: input_fn(train, train_y, training=True), steps=5000)\n"
      ],
      "execution_count": null,
      "outputs": [
        {
          "output_type": "stream",
          "text": [
            "WARNING:tensorflow:From /usr/local/lib/python3.6/dist-packages/tensorflow/python/training/training_util.py:236: Variable.initialized_value (from tensorflow.python.ops.variables) is deprecated and will be removed in a future version.\n",
            "Instructions for updating:\n",
            "Use Variable.read_value. Variables in 2.X are initialized automatically both in eager and graph (inside tf.defun) contexts.\n",
            "INFO:tensorflow:Calling model_fn.\n",
            "WARNING:tensorflow:From /usr/local/lib/python3.6/dist-packages/tensorflow/python/keras/optimizer_v2/adagrad.py:83: calling Constant.__init__ (from tensorflow.python.ops.init_ops) with dtype is deprecated and will be removed in a future version.\n",
            "Instructions for updating:\n",
            "Call initializer instance with the dtype argument instead of passing it to the constructor\n",
            "INFO:tensorflow:Done calling model_fn.\n",
            "INFO:tensorflow:Create CheckpointSaverHook.\n",
            "INFO:tensorflow:Graph was finalized.\n",
            "INFO:tensorflow:Running local_init_op.\n",
            "INFO:tensorflow:Done running local_init_op.\n",
            "INFO:tensorflow:Calling checkpoint listeners before saving checkpoint 0...\n",
            "INFO:tensorflow:Saving checkpoints for 0 into /tmp/tmpnwnh67m1/model.ckpt.\n",
            "INFO:tensorflow:Calling checkpoint listeners after saving checkpoint 0...\n",
            "INFO:tensorflow:loss = 1.1710112, step = 0\n",
            "INFO:tensorflow:global_step/sec: 375.293\n",
            "INFO:tensorflow:loss = 0.9003433, step = 100 (0.271 sec)\n",
            "INFO:tensorflow:global_step/sec: 425.272\n",
            "INFO:tensorflow:loss = 0.8107624, step = 200 (0.237 sec)\n",
            "INFO:tensorflow:global_step/sec: 424.25\n",
            "INFO:tensorflow:loss = 0.7433914, step = 300 (0.234 sec)\n",
            "INFO:tensorflow:global_step/sec: 392.396\n",
            "INFO:tensorflow:loss = 0.70545983, step = 400 (0.254 sec)\n",
            "INFO:tensorflow:global_step/sec: 451.361\n",
            "INFO:tensorflow:loss = 0.6673529, step = 500 (0.222 sec)\n",
            "INFO:tensorflow:global_step/sec: 431.302\n",
            "INFO:tensorflow:loss = 0.638352, step = 600 (0.232 sec)\n",
            "INFO:tensorflow:global_step/sec: 426.388\n",
            "INFO:tensorflow:loss = 0.6131706, step = 700 (0.232 sec)\n",
            "INFO:tensorflow:global_step/sec: 433.605\n",
            "INFO:tensorflow:loss = 0.59402716, step = 800 (0.230 sec)\n",
            "INFO:tensorflow:global_step/sec: 426.039\n",
            "INFO:tensorflow:loss = 0.57061, step = 900 (0.235 sec)\n",
            "INFO:tensorflow:global_step/sec: 401.322\n",
            "INFO:tensorflow:loss = 0.5566033, step = 1000 (0.252 sec)\n",
            "INFO:tensorflow:global_step/sec: 518.981\n",
            "INFO:tensorflow:loss = 0.5310294, step = 1100 (0.195 sec)\n",
            "INFO:tensorflow:global_step/sec: 445.978\n",
            "INFO:tensorflow:loss = 0.52700126, step = 1200 (0.223 sec)\n",
            "INFO:tensorflow:global_step/sec: 456.123\n",
            "INFO:tensorflow:loss = 0.51805955, step = 1300 (0.219 sec)\n",
            "INFO:tensorflow:global_step/sec: 454.949\n",
            "INFO:tensorflow:loss = 0.5071073, step = 1400 (0.217 sec)\n",
            "INFO:tensorflow:global_step/sec: 437.501\n",
            "INFO:tensorflow:loss = 0.48891154, step = 1500 (0.229 sec)\n",
            "INFO:tensorflow:global_step/sec: 497.176\n",
            "INFO:tensorflow:loss = 0.4841076, step = 1600 (0.204 sec)\n",
            "INFO:tensorflow:global_step/sec: 451.211\n",
            "INFO:tensorflow:loss = 0.46583933, step = 1700 (0.218 sec)\n",
            "INFO:tensorflow:global_step/sec: 473.469\n",
            "INFO:tensorflow:loss = 0.4615235, step = 1800 (0.211 sec)\n",
            "INFO:tensorflow:global_step/sec: 451.227\n",
            "INFO:tensorflow:loss = 0.46905065, step = 1900 (0.222 sec)\n",
            "INFO:tensorflow:global_step/sec: 467.782\n",
            "INFO:tensorflow:loss = 0.44238538, step = 2000 (0.217 sec)\n",
            "INFO:tensorflow:global_step/sec: 426.421\n",
            "INFO:tensorflow:loss = 0.4375552, step = 2100 (0.235 sec)\n",
            "INFO:tensorflow:global_step/sec: 409.444\n",
            "INFO:tensorflow:loss = 0.44263667, step = 2200 (0.241 sec)\n",
            "INFO:tensorflow:global_step/sec: 421.579\n",
            "INFO:tensorflow:loss = 0.4357131, step = 2300 (0.240 sec)\n",
            "INFO:tensorflow:global_step/sec: 487.219\n",
            "INFO:tensorflow:loss = 0.4145314, step = 2400 (0.202 sec)\n",
            "INFO:tensorflow:global_step/sec: 444.849\n",
            "INFO:tensorflow:loss = 0.41105926, step = 2500 (0.225 sec)\n",
            "INFO:tensorflow:global_step/sec: 464.185\n",
            "INFO:tensorflow:loss = 0.40791735, step = 2600 (0.217 sec)\n",
            "INFO:tensorflow:global_step/sec: 455.589\n",
            "INFO:tensorflow:loss = 0.38084376, step = 2700 (0.219 sec)\n",
            "INFO:tensorflow:global_step/sec: 470.312\n",
            "INFO:tensorflow:loss = 0.38509426, step = 2800 (0.213 sec)\n",
            "INFO:tensorflow:global_step/sec: 451.449\n",
            "INFO:tensorflow:loss = 0.37558836, step = 2900 (0.220 sec)\n",
            "INFO:tensorflow:global_step/sec: 488.679\n",
            "INFO:tensorflow:loss = 0.3713311, step = 3000 (0.205 sec)\n",
            "INFO:tensorflow:global_step/sec: 409.96\n",
            "INFO:tensorflow:loss = 0.35858044, step = 3100 (0.247 sec)\n",
            "INFO:tensorflow:global_step/sec: 447.523\n",
            "INFO:tensorflow:loss = 0.35775727, step = 3200 (0.221 sec)\n",
            "INFO:tensorflow:global_step/sec: 409.676\n",
            "INFO:tensorflow:loss = 0.3447203, step = 3300 (0.247 sec)\n",
            "INFO:tensorflow:global_step/sec: 467.008\n",
            "INFO:tensorflow:loss = 0.34077322, step = 3400 (0.211 sec)\n",
            "INFO:tensorflow:global_step/sec: 416.076\n",
            "INFO:tensorflow:loss = 0.33010548, step = 3500 (0.244 sec)\n",
            "INFO:tensorflow:global_step/sec: 406.691\n",
            "INFO:tensorflow:loss = 0.33684036, step = 3600 (0.243 sec)\n",
            "INFO:tensorflow:global_step/sec: 417.418\n",
            "INFO:tensorflow:loss = 0.35052174, step = 3700 (0.241 sec)\n",
            "INFO:tensorflow:global_step/sec: 441.599\n",
            "INFO:tensorflow:loss = 0.32109994, step = 3800 (0.224 sec)\n",
            "INFO:tensorflow:global_step/sec: 433.146\n",
            "INFO:tensorflow:loss = 0.3233887, step = 3900 (0.233 sec)\n",
            "INFO:tensorflow:global_step/sec: 373.609\n",
            "INFO:tensorflow:loss = 0.31238842, step = 4000 (0.266 sec)\n",
            "INFO:tensorflow:global_step/sec: 438.838\n",
            "INFO:tensorflow:loss = 0.3065592, step = 4100 (0.229 sec)\n",
            "INFO:tensorflow:global_step/sec: 426.902\n",
            "INFO:tensorflow:loss = 0.31488574, step = 4200 (0.233 sec)\n",
            "INFO:tensorflow:global_step/sec: 419.554\n",
            "INFO:tensorflow:loss = 0.30562323, step = 4300 (0.238 sec)\n",
            "INFO:tensorflow:global_step/sec: 408.797\n",
            "INFO:tensorflow:loss = 0.30730265, step = 4400 (0.247 sec)\n",
            "INFO:tensorflow:global_step/sec: 445.802\n",
            "INFO:tensorflow:loss = 0.30132365, step = 4500 (0.224 sec)\n",
            "INFO:tensorflow:global_step/sec: 458.096\n",
            "INFO:tensorflow:loss = 0.29368195, step = 4600 (0.218 sec)\n",
            "INFO:tensorflow:global_step/sec: 475.148\n",
            "INFO:tensorflow:loss = 0.29366347, step = 4700 (0.208 sec)\n",
            "INFO:tensorflow:global_step/sec: 419.196\n",
            "INFO:tensorflow:loss = 0.29294223, step = 4800 (0.242 sec)\n",
            "INFO:tensorflow:global_step/sec: 422.473\n",
            "INFO:tensorflow:loss = 0.2918093, step = 4900 (0.236 sec)\n",
            "INFO:tensorflow:Calling checkpoint listeners before saving checkpoint 5000...\n",
            "INFO:tensorflow:Saving checkpoints for 5000 into /tmp/tmpnwnh67m1/model.ckpt.\n",
            "INFO:tensorflow:Calling checkpoint listeners after saving checkpoint 5000...\n",
            "INFO:tensorflow:Loss for final step: 0.29366344.\n"
          ],
          "name": "stdout"
        },
        {
          "output_type": "execute_result",
          "data": {
            "text/plain": [
              "<tensorflow_estimator.python.estimator.canned.dnn.DNNClassifierV2 at 0x7f21d8af4f28>"
            ]
          },
          "metadata": {
            "tags": []
          },
          "execution_count": 20
        }
      ]
    },
    {
      "cell_type": "markdown",
      "metadata": {
        "id": "t4kC3eg6vHim"
      },
      "source": [
        "**EVALUATION**\n",
        "\n",
        "Time to see how this model performs"
      ]
    },
    {
      "cell_type": "code",
      "metadata": {
        "colab": {
          "base_uri": "https://localhost:8080/"
        },
        "id": "AnAvcK0ZvNRJ",
        "outputId": "3f42b629-e749-4d46-e825-ce25310776f4"
      },
      "source": [
        "eval_result = classifier.evaluate(\n",
        "    input_fn = lambda: input_fn(test, test_y, training = False)\n",
        ")\n",
        "\n",
        "print('\\n Test set accuracy: {accuracy:0.3f}\\n'.format(**eval_result))"
      ],
      "execution_count": null,
      "outputs": [
        {
          "output_type": "stream",
          "text": [
            "INFO:tensorflow:Calling model_fn.\n",
            "INFO:tensorflow:Done calling model_fn.\n",
            "INFO:tensorflow:Starting evaluation at 2021-01-17T09:50:42Z\n",
            "INFO:tensorflow:Graph was finalized.\n",
            "INFO:tensorflow:Restoring parameters from /tmp/tmpnwnh67m1/model.ckpt-5000\n",
            "INFO:tensorflow:Running local_init_op.\n",
            "INFO:tensorflow:Done running local_init_op.\n",
            "INFO:tensorflow:Inference Time : 0.33089s\n",
            "INFO:tensorflow:Finished evaluation at 2021-01-17-09:50:43\n",
            "INFO:tensorflow:Saving dict for global step 5000: accuracy = 0.96666664, average_loss = 0.3343054, global_step = 5000, loss = 0.3343054\n",
            "INFO:tensorflow:Saving 'checkpoint_path' summary for global step 5000: /tmp/tmpnwnh67m1/model.ckpt-5000\n",
            "\n",
            " Test set accuracy: 0.967\n",
            "\n"
          ],
          "name": "stdout"
        }
      ]
    },
    {
      "cell_type": "markdown",
      "metadata": {
        "id": "SDFTkd0byCMr"
      },
      "source": [
        "**Predictions**\n",
        "\n",
        "Now that we have trained and evaluated our module, its time for predictions\n",
        "Here below is a script that allows to input feature of a flower, and see the prediction as of its type."
      ]
    },
    {
      "cell_type": "code",
      "metadata": {
        "colab": {
          "base_uri": "https://localhost:8080/"
        },
        "id": "KuToKi93yBfy",
        "outputId": "ad94465b-6ca2-4cd8-a39f-7ed98d382e10"
      },
      "source": [
        "def input_fn(features, batch_size=256):\n",
        "  return tf.data.Dataset.from_tensor_slices(dict(features)).batch(batch_size) #this will convert the inputs to a dataset without label\n",
        "\n",
        "features = ['SepalLength','SepalWidth','PetalLength','PetalWidth']\n",
        "predict={}\n",
        "\n",
        "print(\"Please type numeric values as prompted:\")\n",
        "for feature in features:\n",
        "  valid = True\n",
        "  while valid:\n",
        "    val = input(feature + \":\")\n",
        "    if not val.isdigit(): valid=False\n",
        "\n",
        "  predict[feature] = [float(val)]\n",
        "\n",
        "predictions = classifier.predict(input_fn=lambda: input_fn(predict))\n",
        "for pred_dict in predictions:\n",
        "    class_id = pred_dict['class_ids'][0]\n",
        "    probability = pred_dict['probabilities'][class_id]\n",
        "\n",
        "    print('Prediction is \"{}\" ({:.1f}%)'.format(\n",
        "      SPECIES[class_id], 100 * probability))\n",
        "\n"
      ],
      "execution_count": null,
      "outputs": [
        {
          "output_type": "stream",
          "text": [
            "Please type numeric values as prompted:\n",
            "SepalLength:0.5\n",
            "SepalWidth:0.4\n",
            "PetalLength:0.6\n",
            "PetalWidth:0.3\n",
            "INFO:tensorflow:Calling model_fn.\n",
            "INFO:tensorflow:Done calling model_fn.\n",
            "INFO:tensorflow:Graph was finalized.\n",
            "INFO:tensorflow:Restoring parameters from /tmp/tmpnwnh67m1/model.ckpt-5000\n",
            "INFO:tensorflow:Running local_init_op.\n",
            "INFO:tensorflow:Done running local_init_op.\n",
            "Prediction is \"Versicolor\" (40.5%)\n"
          ],
          "name": "stdout"
        }
      ]
    }
  ]
}